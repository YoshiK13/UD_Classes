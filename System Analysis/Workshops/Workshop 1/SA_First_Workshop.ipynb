{
  "cells": [
    {
      "cell_type": "markdown",
      "metadata": {
        "id": "kJ3vwBHASVtb"
      },
      "source": [
        "# First Workshop\n",
        "\n"
      ]
    },
    {
      "cell_type": "markdown",
      "metadata": {
        "id": "sP_MCHcuWbTJ"
      },
      "source": [
        "## Infomation of the Workshop"
      ]
    },
    {
      "cell_type": "markdown",
      "metadata": {
        "id": "YHi5L0fYWhER"
      },
      "source": [
        "__Workshop I - Systems Analysis__\n",
        "\n",
        "_Workshop Definition:_\n",
        "\n",
        "Welcome to the first workshop of Systems Analysis course. Let’s funny me with a biological exercise.\n",
        "\n",
        "Imagine you have been hired as data analyst in an important biotechnology company.  Your boss, science chief officer, want to get some patterns in genomic data, sometimes called motifs.\n",
        "\n",
        "Here you will have some tasks in order to complete this workshop:\n",
        "Create a dummy database of genetic sequences composed of nucleotide bases (A, C, G, T), where each sequence must have between 10 and 20 bases. Your database must be composed for 50.000 genetic sequences.\n",
        "\n",
        "Get the motifs (must repeated sequence) of size 6 and 8.\n",
        "Use the Shannon Entropy measurement to filter sequences with not a good variance level.\n",
        "Get again the motifs of size 6 and 8.\n",
        "\n",
        "Write some conclusions based on your analysis.\n",
        "Write any technical concern/decision/difficulty  you think is relevant regarding your work.\n",
        "You must deliver a full report detailing each one of the previous steps. For steeps 1 to 4 you must describe the algorithms you propose and let an screenshot about the code and the output of the code. I strongly recommend you to use a Jupyter Notebook or a COLAB to write/execute your code."
      ]
    },
    {
      "cell_type": "markdown",
      "metadata": {
        "id": "40gdvJ9TWIvb"
      },
      "source": [
        "## 1° Create Dummy data-base"
      ]
    },
    {
      "cell_type": "markdown",
      "source": [
        "First we define a function that creates a sequence using the bases : A, C, T G."
      ],
      "metadata": {
        "id": "ka9rTDSRK_l6"
      }
    },
    {
      "cell_type": "code",
      "execution_count": null,
      "metadata": {
        "id": "vDJm7abSSK6C"
      },
      "outputs": [],
      "source": [
        "import random\n",
        "\n",
        "def create_sequence() -> str:\n",
        "    \"\"\"\n",
        "    This function is used to generate a random genetic sequence.\n",
        "\n",
        "    Returns:\n",
        "    - str: random genetic sequence\n",
        "    \"\"\"\n",
        "    nucleotid_bases = [\"A\", \"G\", \"C\", \"T\"]\n",
        "    size_sequence = random.randint(10,20)\n",
        "    new_sequence = [nucleotid_bases[random.randint(0,3)] for i in range (size_sequence)]\n",
        "    return \"\".join(new_sequence)\n"
      ]
    },
    {
      "cell_type": "markdown",
      "source": [
        "Now we create the dummy database using our sequence creator function."
      ],
      "metadata": {
        "id": "NJYY8No6LkPp"
      }
    },
    {
      "cell_type": "code",
      "execution_count": null,
      "metadata": {
        "id": "9oJ_JhIPblKx"
      },
      "outputs": [],
      "source": [
        "def create_database(size: int) -> list:\n",
        "    \"\"\"\n",
        "    This function is used to create a dataset composed by a set of genetic sequences.\n",
        "\n",
        "    Parameters:\n",
        "    - dataset_size (int): size of the dummy dataset to be generated.\n",
        "\n",
        "    Returns:\n",
        "    - list: a list of genetic sequences\n",
        "    \"\"\"\n",
        "    db_size = size\n",
        "    data_base = [create_sequence() for i in range(db_size)]\n",
        "    return data_base\n"
      ]
    },
    {
      "cell_type": "markdown",
      "source": [],
      "metadata": {
        "id": "VNjfF_YZMa_Z"
      }
    },
    {
      "cell_type": "code",
      "execution_count": null,
      "metadata": {
        "id": "AMS3XEG0fOUC"
      },
      "outputs": [],
      "source": [
        "def get_combination(n: int, sequences: list, bases: list) -> list:\n",
        "    \"\"\"\n",
        "    This method is used to generate a set of combinations based on a list of nucleotid bases.\n",
        "    To make easy the process, this function is defined as a recurssion.\n",
        "\n",
        "    Parameters:\n",
        "    - n (int): amount of elements of each combination\n",
        "    - sequences (list): list of recursive sequences obtained\n",
        "    - bases (list): list of nucleotid bases to be used\n",
        "\n",
        "    Returns:\n",
        "    - list: list of combinations\n",
        "    \"\"\"\n",
        "    if n == 1:\n",
        "        return [sequence + base for sequence in sequences for base in bases]\n",
        "\n",
        "    else:\n",
        "        sequence = [sequence + base for sequence in sequences for base in bases]\n",
        "        return get_combination(n-1, sequence, bases)\n",
        "\n",
        "def count_motif(motif: str, sequences_db: list) -> int:\n",
        "    \"\"\"\n",
        "    This function is used to count the number of times a motif appears in a set of genetic sequences.\n",
        "\n",
        "    Parameters:\n",
        "    - motif (str): genetic motif to be searched.\n",
        "    - sequences_db (list): list of genetic sequences.\n",
        "\n",
        "    Returns:\n",
        "    - int: number of times the motif appears in the dataset.\n",
        "    \"\"\"\n",
        "    count = 0\n",
        "    for sequence in sequences_db:\n",
        "        count += sequence.count(motif)\n",
        "    return count\n",
        "\n",
        "def get_motif(motif_size: int, sequences_db: list):\n",
        "    \"\"\"\n",
        "    This function is used to get the motif with the highest count in a set of genetic sequences.\n",
        "\n",
        "    Parameters:\n",
        "    - motif_size (int): size of the motif to be searched.\n",
        "    - sequences_db (list): list of genetic sequences.\n",
        "\n",
        "    Returns:\n",
        "    - (str, int): motif with the highest count and the number of times it appears in the dataset.\n",
        "    \"\"\"\n",
        "    nucletid_bases = [\"A\", \"C\", \"G\", \"T\"]\n",
        "    combinations = get_combination(motif_size, [\"\"], nucletid_bases)\n",
        "    max_counter = 0\n",
        "    motif_winner = \"\"\n",
        "\n",
        "    for motif_candidate in combinations:\n",
        "        temp_conter = count_motif(motif_candidate, sequences_db)\n",
        "        if temp_conter > max_counter:\n",
        "            max_counter = temp_conter\n",
        "            motif_winner = motif_candidate\n",
        "\n",
        "    return motif_winner, max_counter"
      ]
    },
    {
      "cell_type": "markdown",
      "metadata": {
        "id": "Q1DoQVqPjhda"
      },
      "source": [
        "## Entropia de Shannon"
      ]
    },
    {
      "cell_type": "code",
      "execution_count": null,
      "metadata": {
        "id": "ay2Jn8fUlIpO"
      },
      "outputs": [],
      "source": [
        "# Tarea\n",
        "# Info: Calcular entropia de shanon de todas las sequencias y filtrar en base a un numero (de la entropia)\n",
        "# para luego volver a calcular el motif"
      ]
    },
    {
      "cell_type": "code",
      "source": [
        "for size in [6, 8]:\n",
        "    print(f\"\\nMotifs of size: {size}\")\n",
        "    for i in range(10):\n",
        "        print(get_motif(size, create_database(50000)))"
      ],
      "metadata": {
        "id": "hQGe0Wi8mDLP",
        "colab": {
          "base_uri": "https://localhost:8080/"
        },
        "outputId": "53d02c5e-7a63-46f2-863a-570080119780"
      },
      "execution_count": null,
      "outputs": [
        {
          "output_type": "stream",
          "name": "stdout",
          "text": [
            "\n",
            "Motifs of size: 6\n",
            "('GCATTT', 164)\n",
            "('CTGGCC', 161)\n",
            "('CCTTCT', 164)\n",
            "('TACAGC', 166)\n",
            "('TTCACG', 169)\n",
            "('ATGCTC', 164)\n",
            "('CGAGGT', 166)\n",
            "('TCGTGA', 179)\n",
            "('GAGACT', 162)\n",
            "('CGATAT', 168)\n",
            "\n",
            "Motifs of size: 8\n",
            "('CATGCAAT', 21)\n",
            "('ACAATTAT', 18)\n",
            "('TCAGATAC', 19)\n",
            "('TATCATCA', 19)\n",
            "('TCCTCTTT', 19)\n",
            "('ATTCTCCT', 21)\n",
            "('GCAGGGTA', 21)\n",
            "('AAGGATTG', 20)\n",
            "('ACAGCGAA', 18)\n",
            "('TTTCTCTG', 20)\n"
          ]
        }
      ]
    },
    {
      "cell_type": "code",
      "source": [
        "from math import log2\n",
        "from collections import Counter\n",
        "\n",
        "def calculate_shannon_entrophy(sequence: str) -> float:\n",
        "    \"\"\"\n",
        "    This function is used to calculate the Shannon Entropy of a genetic sequence.\n",
        "\n",
        "    Parameters:\n",
        "    - sequence (str): genetic sequence.\n",
        "\n",
        "    Returns:\n",
        "    - float: Shannon Entropy of the sequence.\n",
        "    \"\"\"\n",
        "    entrophy = 0\n",
        "\n",
        "    length_sequence = len(sequence)\n",
        "    prob_sequence = Counter(sequence)\n",
        "\n",
        "    entrophy = log2(length_sequence) - sum(count * log2(count) for count in prob_sequence.values()) / length_sequence\n",
        "\n",
        "    return entrophy\n"
      ],
      "metadata": {
        "id": "X8nZNp1skWDp"
      },
      "execution_count": null,
      "outputs": []
    },
    {
      "cell_type": "code",
      "source": [
        "def filter_shannon(sequence: str) -> bool:\n",
        "    \"\"\"\n",
        "    This function is used to filter genetic sequences based on their Shannon Entropy.\n",
        "\n",
        "    Parameters:\n",
        "    - sequence (str): genetic sequence.\n",
        "\n",
        "    Returns:\n",
        "    - bool: True if the sequence passes the filter, False otherwise.\n",
        "    \"\"\"\n",
        "\n",
        "    return calculate_shannon_entrophy(sequence) > 1.5"
      ],
      "metadata": {
        "id": "lWBrZZtAk_9q"
      },
      "execution_count": null,
      "outputs": []
    },
    {
      "cell_type": "code",
      "source": [
        "for size in [6, 8]:\n",
        "    print(f\"\\nAfter filter, motifs of size: {size}\")\n",
        "    for i in range(10):\n",
        "        dataset = create_database(50000)\n",
        "        dataset = list(filter(filter_shannon, dataset))\n",
        "        print(f\"Dataset size: {len(dataset)}, Motif: {get_motif(size, dataset)}\")"
      ],
      "metadata": {
        "colab": {
          "base_uri": "https://localhost:8080/"
        },
        "id": "nCgJ2ftolF0u",
        "outputId": "14a7b9bb-b608-4969-e2cd-df08c919362b"
      },
      "execution_count": null,
      "outputs": [
        {
          "output_type": "stream",
          "name": "stdout",
          "text": [
            "\n",
            "After filter, motifs of size: 6\n",
            "Dataset size: 47739, Motif: ('GCTAGG', 164)\n",
            "Dataset size: 47675, Motif: ('CCGGCA', 176)\n",
            "Dataset size: 47696, Motif: ('CGAACA', 159)\n",
            "Dataset size: 47614, Motif: ('ATAGAT', 160)\n",
            "Dataset size: 47545, Motif: ('CCAGTT', 159)\n",
            "Dataset size: 47727, Motif: ('GAGTCT', 157)\n",
            "Dataset size: 47707, Motif: ('CATGAC', 164)\n",
            "Dataset size: 47616, Motif: ('ATACGC', 160)\n",
            "Dataset size: 47680, Motif: ('ATACGA', 163)\n",
            "Dataset size: 47668, Motif: ('TCGATA', 159)\n",
            "\n",
            "After filter, motifs of size: 8\n",
            "Dataset size: 47611, Motif: ('TATGACTT', 19)\n",
            "Dataset size: 47664, Motif: ('CCCGGTTT', 18)\n",
            "Dataset size: 47628, Motif: ('ACCATTAG', 18)\n",
            "Dataset size: 47657, Motif: ('AAGGGTCT', 19)\n",
            "Dataset size: 47707, Motif: ('AATCAACC', 19)\n",
            "Dataset size: 47634, Motif: ('TACCAGCA', 18)\n",
            "Dataset size: 47677, Motif: ('GCGCGAAG', 18)\n",
            "Dataset size: 47616, Motif: ('CCAAGCTC', 20)\n",
            "Dataset size: 47696, Motif: ('CGTTAAGC', 18)\n",
            "Dataset size: 47722, Motif: ('AGAAATCC', 18)\n"
          ]
        }
      ]
    }
  ],
  "metadata": {
    "colab": {
      "provenance": []
    },
    "kernelspec": {
      "display_name": "Python 3",
      "name": "python3"
    },
    "language_info": {
      "name": "python"
    }
  },
  "nbformat": 4,
  "nbformat_minor": 0
}