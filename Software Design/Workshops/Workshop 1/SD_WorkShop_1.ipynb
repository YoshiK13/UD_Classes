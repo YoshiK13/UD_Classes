{
  "nbformat": 4,
  "nbformat_minor": 0,
  "metadata": {
    "colab": {
      "provenance": []
    },
    "kernelspec": {
      "name": "python3",
      "display_name": "Python 3"
    },
    "language_info": {
      "name": "python"
    }
  },
  "cells": [
    {
      "cell_type": "markdown",
      "source": [
        "# Vehicle Company"
      ],
      "metadata": {
        "id": "clroolwyLKSW"
      }
    },
    {
      "cell_type": "markdown",
      "source": [
        "This notebook holds the development of the workshop #1 of the software modeling class.\n",
        "\n",
        "With the focous in object implementation and use of classes in a vehicle software.\n",
        "\n",
        "\n"
      ],
      "metadata": {
        "id": "xUt1BfMlLgbC"
      }
    },
    {
      "cell_type": "markdown",
      "source": [
        "## Creation of the Model"
      ],
      "metadata": {
        "id": "g8K4Tt3lLdQQ"
      }
    },
    {
      "cell_type": "code",
      "execution_count": 17,
      "metadata": {
        "id": "FaQOrDw7KRwD"
      },
      "outputs": [],
      "source": [
        "\"\"\"\n",
        "This file contains the model implementation for the workshop #1\n",
        "in the software modeling class\n",
        "\n",
        "Author: Joshoa Alarcon S\n",
        "Date_ Mar - 15 - 2024\n",
        "\"\"\"\n",
        "\n",
        "class Engine:\n",
        "    \"\"\"This class represents the structure of a vehicle engine\"\"\"\n",
        "\n",
        "    def __init__(self, name:str, engine_type: str, potency: int, weight: float):\n",
        "        self.name = name\n",
        "        self.engine_type = engine_type\n",
        "        self.potency = potency\n",
        "        self.weight = weight\n",
        "\n",
        "\n",
        "class Vehicle:\n",
        "    \"\"\"This class represents the basic vehicle and its structure\"\"\"\n",
        "\n",
        "    def __init__(self, engine: Engine, chasis: str, model: str, year: str):\n",
        "        self.engine = engine\n",
        "        self.chasis = chasis\n",
        "        self.model = model\n",
        "        self.year = year\n",
        "        self.gas_consumption = get_gas_comsumption()\n",
        "\n",
        "    def get_gas_comsumption(self):\n",
        "        \"\"\"\n",
        "        This method returns the vehicle gas consumption based on a predefined formula\n",
        "\n",
        "        Returns:\n",
        "        - (float): Vehicle gas consumption\n",
        "        \"\"\"\n",
        "        return 1.1 * self.engine.potency + 0.2 * self.engine.weight - chasis_impact()\n",
        "\n",
        "    def chasis_impact(self):\n",
        "        \"\"\"\n",
        "        This method returns the vehicle gas consumption impact acording to its chasis\n",
        "\n",
        "        Returns:\n",
        "        - (float): Gas impact on the vehicle based on its chasis\n",
        "        \"\"\"\n",
        "        if self.chasis == \"A\":\n",
        "            return 0.3\n",
        "        elif self.chasis == \"B\":\n",
        "            return 0.5\n",
        "\n",
        "class Car(Vehicle):\n",
        "    \"\"\"This class represents the structure a Car (vehicle)\"\"\"\n",
        "    def __init__(self, name: str, car_type: str, chairs: int, engine: Engine, chasis: str, model: str, year: str):\n",
        "        super().__init__(engine, chasis, model, year)\n",
        "        self.name = name\n",
        "        self.car_type = car_type\n",
        "        self.chairs = chairs\n",
        "\n",
        "class Truck(Vehicle):\n",
        "    \"\"\"This class represents the structure a Truck (Vehicle)\"\"\"\n",
        "    def __init__(self, name: str, size: float, load_capacity: float, engine: Engine, chasis: str, model: str, year: str):\n",
        "        super().__init__(engine, chasis, model, year)\n",
        "        self.name = name\n",
        "        self.size = size\n",
        "        self.load_capacity = load_capacity\n",
        "\n",
        "class Yatch(Vehicle):\n",
        "    \"\"\"This class represents the structure a Yatch (Vehicle)\"\"\"\n",
        "    def __init__(self, name: str, max_speed: float, brand: str, engine: Engine, chasis: str, model: str, year: str):\n",
        "        super().__init__(engine, chasis, model, year)\n",
        "        self.name = name\n",
        "        self.max_speed = max_speed\n",
        "        self.brand = brand\n",
        "\n",
        "class Motorcycle(Vehicle):\n",
        "    \"\"\"This class represents the structure a Motorcycle (Vehicle)\"\"\"\n",
        "    def __init__(self, name: str, bike_type: str, fuel_type: str, engine: Engine, chasis: str, model: str, year: str):\n",
        "        super().__init__(engine, chasis, model, year)\n",
        "        self.name = name\n",
        "        self.bike_type = bike_type\n",
        "        self.fuel_type = fuel_type\n"
      ]
    },
    {
      "cell_type": "markdown",
      "source": [
        "## Testing of the Model"
      ],
      "metadata": {
        "id": "f0qBAsVHarWi"
      }
    },
    {
      "cell_type": "code",
      "source": [],
      "metadata": {
        "id": "EAlKKCLoaq-k"
      },
      "execution_count": null,
      "outputs": []
    }
  ]
}